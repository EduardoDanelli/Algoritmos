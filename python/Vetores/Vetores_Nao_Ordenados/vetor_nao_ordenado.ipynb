{
 "cells": [
  {
   "cell_type": "code",
   "execution_count": 25,
   "metadata": {},
   "outputs": [],
   "source": [
    "import numpy as np"
   ]
  },
  {
   "cell_type": "code",
   "execution_count": 26,
   "metadata": {},
   "outputs": [],
   "source": [
    "class VetorNaoOrdenado:\n",
    "    def __init__(self, capacidade):\n",
    "        self.capacidade = capacidade\n",
    "        self.ultima_posicao = -1\n",
    "        self.valores = np.empty(self.capacidade, dtype=int)\n",
    "\n",
    "    # O(n)\n",
    "    def imprime(self):\n",
    "        if self.ultima_posicao == -1:\n",
    "            print(\"O vetor está vazio\")\n",
    "        else:\n",
    "            for i in range(self.ultima_posicao + 1):\n",
    "                print(i, ' - ', self.valores[i])\n",
    "\n",
    "    #O(1)\n",
    "    def insere(self, valor):\n",
    "        if self.ultima_posicao == self.capacidade - 1:\n",
    "            print(\"Capacidade máxima atingida\")\n",
    "        else:\n",
    "            self.ultima_posicao += 1\n",
    "            self.valores[self.ultima_posicao] = valor\n",
    "\n",
    "    def pesquisar(self, valor):\n",
    "        for i in range(self.ultima_posicao + 1):\n",
    "            if valor == self.valores[i]:\n",
    "                return i\n",
    "        return -1 \n",
    "    \n",
    "    # O(n)\n",
    "    def excluir(self, valor):\n",
    "        posicao = self.pesquisar(valor)\n",
    "        if posicao == -1:\n",
    "            return -1\n",
    "        else:\n",
    "            for i in range(posicao, self.ultima_posicao):\n",
    "                self.valores[i] = self.valores[i + 1]\n",
    "\n",
    "            self.ultima_posicao -= 1"
   ]
  },
  {
   "cell_type": "code",
   "execution_count": 27,
   "metadata": {},
   "outputs": [],
   "source": [
    "vetor = VetorNaoOrdenado(5)"
   ]
  },
  {
   "cell_type": "code",
   "execution_count": 28,
   "metadata": {},
   "outputs": [
    {
     "name": "stdout",
     "output_type": "stream",
     "text": [
      "O vetor está vazio\n"
     ]
    }
   ],
   "source": [
    "vetor.imprime()"
   ]
  },
  {
   "cell_type": "code",
   "execution_count": 29,
   "metadata": {},
   "outputs": [],
   "source": [
    "vetor.insere(2)"
   ]
  },
  {
   "cell_type": "code",
   "execution_count": 30,
   "metadata": {},
   "outputs": [
    {
     "name": "stdout",
     "output_type": "stream",
     "text": [
      "0  -  2\n"
     ]
    }
   ],
   "source": [
    "vetor.imprime()"
   ]
  },
  {
   "cell_type": "code",
   "execution_count": 31,
   "metadata": {},
   "outputs": [],
   "source": [
    "vetor.insere(2)\n",
    "vetor.insere(4)\n",
    "vetor.insere(6)\n",
    "vetor.insere(1)"
   ]
  },
  {
   "cell_type": "code",
   "execution_count": 32,
   "metadata": {},
   "outputs": [
    {
     "name": "stdout",
     "output_type": "stream",
     "text": [
      "0  -  2\n",
      "1  -  2\n",
      "2  -  4\n",
      "3  -  6\n",
      "4  -  1\n"
     ]
    }
   ],
   "source": [
    "vetor.imprime()"
   ]
  },
  {
   "cell_type": "code",
   "execution_count": 33,
   "metadata": {},
   "outputs": [
    {
     "data": {
      "text/plain": [
       "4"
      ]
     },
     "execution_count": 33,
     "metadata": {},
     "output_type": "execute_result"
    }
   ],
   "source": [
    "vetor.ultima_posicao"
   ]
  },
  {
   "cell_type": "code",
   "execution_count": 34,
   "metadata": {},
   "outputs": [
    {
     "data": {
      "text/plain": [
       "2"
      ]
     },
     "execution_count": 34,
     "metadata": {},
     "output_type": "execute_result"
    }
   ],
   "source": [
    "vetor.pesquisar(4)"
   ]
  },
  {
   "cell_type": "code",
   "execution_count": 35,
   "metadata": {},
   "outputs": [
    {
     "name": "stdout",
     "output_type": "stream",
     "text": [
      "0  -  2\n",
      "1  -  2\n",
      "2  -  4\n",
      "3  -  6\n",
      "4  -  1\n"
     ]
    }
   ],
   "source": [
    "vetor.imprime()"
   ]
  },
  {
   "cell_type": "code",
   "execution_count": 36,
   "metadata": {},
   "outputs": [],
   "source": [
    "vetor.excluir(4)"
   ]
  },
  {
   "cell_type": "code",
   "execution_count": 37,
   "metadata": {},
   "outputs": [
    {
     "name": "stdout",
     "output_type": "stream",
     "text": [
      "0  -  2\n",
      "1  -  2\n",
      "2  -  6\n",
      "3  -  1\n"
     ]
    }
   ],
   "source": [
    "vetor.imprime()"
   ]
  },
  {
   "cell_type": "code",
   "execution_count": 38,
   "metadata": {},
   "outputs": [],
   "source": [
    "vetor.excluir(1)"
   ]
  },
  {
   "cell_type": "code",
   "execution_count": 39,
   "metadata": {},
   "outputs": [
    {
     "name": "stdout",
     "output_type": "stream",
     "text": [
      "0  -  2\n",
      "1  -  2\n",
      "2  -  6\n"
     ]
    }
   ],
   "source": [
    "vetor.imprime()"
   ]
  },
  {
   "cell_type": "code",
   "execution_count": 40,
   "metadata": {},
   "outputs": [],
   "source": [
    "vetor.excluir(2)"
   ]
  },
  {
   "cell_type": "code",
   "execution_count": 41,
   "metadata": {},
   "outputs": [
    {
     "name": "stdout",
     "output_type": "stream",
     "text": [
      "0  -  2\n",
      "1  -  6\n"
     ]
    }
   ],
   "source": [
    "vetor.imprime()"
   ]
  },
  {
   "cell_type": "code",
   "execution_count": 42,
   "metadata": {},
   "outputs": [],
   "source": [
    "vetor.insere(3)\n",
    "vetor.insere(7)\n",
    "vetor.insere(5)"
   ]
  },
  {
   "cell_type": "code",
   "execution_count": 43,
   "metadata": {},
   "outputs": [
    {
     "name": "stdout",
     "output_type": "stream",
     "text": [
      "0  -  2\n",
      "1  -  6\n",
      "2  -  3\n",
      "3  -  7\n",
      "4  -  5\n"
     ]
    }
   ],
   "source": [
    "vetor.imprime()"
   ]
  }
 ],
 "metadata": {
  "kernelspec": {
   "display_name": "Python 3",
   "language": "python",
   "name": "python3"
  },
  "language_info": {
   "codemirror_mode": {
    "name": "ipython",
    "version": 3
   },
   "file_extension": ".py",
   "mimetype": "text/x-python",
   "name": "python",
   "nbconvert_exporter": "python",
   "pygments_lexer": "ipython3",
   "version": "3.11.9"
  }
 },
 "nbformat": 4,
 "nbformat_minor": 2
}
